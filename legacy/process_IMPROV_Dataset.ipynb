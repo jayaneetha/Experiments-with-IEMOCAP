{
 "cells": [
  {
   "cell_type": "code",
   "execution_count": 65,
   "metadata": {
    "collapsed": true,
    "pycharm": {
     "is_executing": false
    }
   },
   "outputs": [
    {
     "name": "stderr",
     "text": [
      "Using TensorFlow backend.\n"
     ],
     "output_type": "stream"
    }
   ],
   "source": [
    "import os.path\n",
    "import pickle\n",
    "from os import listdir\n",
    "from os.path import isfile, join\n",
    "import numpy as np\n",
    "import pandas as pd\n",
    "import librosa\n",
    "from keras.utils import to_categorical\n",
    "from constants import IMPROV_DURATION, NUM_MFCC, GENDERS, IMPROV_SR\n",
    "from legacy.convert_iemocap_dataset_to_pkl import split_audio\n",
    "\n",
    "\n",
    "base_path = '/Volumes/Kingston/datasets/audio/MSP-IMPROV/'\n",
    "sessions = ['session1', 'session2', 'session3','session4', 'session5', 'session6']\n",
    "classes = ['A', 'H', 'S', 'N']\n",
    "scenarios = ['P','R','S','T']"
   ]
  },
  {
   "cell_type": "code",
   "execution_count": 8,
   "outputs": [],
   "source": [
    "def decode_filename(filename: str):\n",
    "    speaker_gender = filename[16]\n",
    "    speaker_id = filename[16:19]\n",
    "    return speaker_gender, speaker_id"
   ],
   "metadata": {
    "collapsed": false,
    "pycharm": {
     "name": "#%% \n",
     "is_executing": false
    }
   }
  },
  {
   "cell_type": "code",
   "execution_count": 56,
   "outputs": [
    {
     "name": "stdout",
     "text": [
      "*************\t/Volumes/Kingston/datasets/audio/MSP-IMPROV/session1/S11A/P/\n*************\t/Volumes/Kingston/datasets/audio/MSP-IMPROV/session1/S11A/S/\n*************\t/Volumes/Kingston/datasets/audio/MSP-IMPROV/session1/S11A/T/\n*************\t/Volumes/Kingston/datasets/audio/MSP-IMPROV/session1/S11H/P/\n*************\t/Volumes/Kingston/datasets/audio/MSP-IMPROV/session1/S11H/S/\n*************\t/Volumes/Kingston/datasets/audio/MSP-IMPROV/session1/S11H/T/\n*************\t/Volumes/Kingston/datasets/audio/MSP-IMPROV/session1/S11S/P/\n*************\t/Volumes/Kingston/datasets/audio/MSP-IMPROV/session1/S11S/S/\n*************\t/Volumes/Kingston/datasets/audio/MSP-IMPROV/session1/S11S/T/\n*************\t/Volumes/Kingston/datasets/audio/MSP-IMPROV/session1/S11N/P/\n*************\t/Volumes/Kingston/datasets/audio/MSP-IMPROV/session1/S11N/S/\n*************\t/Volumes/Kingston/datasets/audio/MSP-IMPROV/session1/S11N/T/\n*************\t/Volumes/Kingston/datasets/audio/MSP-IMPROV/session1/S12A/P/\n*************\t/Volumes/Kingston/datasets/audio/MSP-IMPROV/session1/S12A/S/\n*************\t/Volumes/Kingston/datasets/audio/MSP-IMPROV/session1/S12A/T/\n*************\t/Volumes/Kingston/datasets/audio/MSP-IMPROV/session1/S12H/P/\n*************\t/Volumes/Kingston/datasets/audio/MSP-IMPROV/session1/S12H/S/\n*************\t/Volumes/Kingston/datasets/audio/MSP-IMPROV/session1/S12H/T/\n*************\t/Volumes/Kingston/datasets/audio/MSP-IMPROV/session1/S12S/P/\n*************\t/Volumes/Kingston/datasets/audio/MSP-IMPROV/session1/S12S/S/\n*************\t/Volumes/Kingston/datasets/audio/MSP-IMPROV/session1/S12S/T/\n*************\t/Volumes/Kingston/datasets/audio/MSP-IMPROV/session1/S12N/P/\n*************\t/Volumes/Kingston/datasets/audio/MSP-IMPROV/session1/S12N/S/\n*************\t/Volumes/Kingston/datasets/audio/MSP-IMPROV/session1/S12N/T/\n*************\t/Volumes/Kingston/datasets/audio/MSP-IMPROV/session1/S13A/P/\n*************\t/Volumes/Kingston/datasets/audio/MSP-IMPROV/session1/S13A/S/\n*************\t/Volumes/Kingston/datasets/audio/MSP-IMPROV/session1/S13A/T/\n*************\t/Volumes/Kingston/datasets/audio/MSP-IMPROV/session1/S13H/P/\n*************\t/Volumes/Kingston/datasets/audio/MSP-IMPROV/session1/S13H/S/\n*************\t/Volumes/Kingston/datasets/audio/MSP-IMPROV/session1/S13H/T/\n*************\t/Volumes/Kingston/datasets/audio/MSP-IMPROV/session1/S13S/P/\n*************\t/Volumes/Kingston/datasets/audio/MSP-IMPROV/session1/S13S/S/\n*************\t/Volumes/Kingston/datasets/audio/MSP-IMPROV/session1/S13S/T/\n*************\t/Volumes/Kingston/datasets/audio/MSP-IMPROV/session1/S13N/P/\n*************\t/Volumes/Kingston/datasets/audio/MSP-IMPROV/session1/S13N/S/\n*************\t/Volumes/Kingston/datasets/audio/MSP-IMPROV/session1/S13N/T/\n*************\t/Volumes/Kingston/datasets/audio/MSP-IMPROV/session1/S14A/P/\n*************\t/Volumes/Kingston/datasets/audio/MSP-IMPROV/session1/S14A/S/\n*************\t/Volumes/Kingston/datasets/audio/MSP-IMPROV/session1/S14A/T/\n*************\t/Volumes/Kingston/datasets/audio/MSP-IMPROV/session1/S14H/P/\n*************\t/Volumes/Kingston/datasets/audio/MSP-IMPROV/session1/S14H/S/\n*************\t/Volumes/Kingston/datasets/audio/MSP-IMPROV/session1/S14H/T/\n*************\t/Volumes/Kingston/datasets/audio/MSP-IMPROV/session1/S14S/P/\n*************\t/Volumes/Kingston/datasets/audio/MSP-IMPROV/session1/S14S/S/\n*************\t/Volumes/Kingston/datasets/audio/MSP-IMPROV/session1/S14S/T/\n*************\t/Volumes/Kingston/datasets/audio/MSP-IMPROV/session1/S14N/P/\n*************\t/Volumes/Kingston/datasets/audio/MSP-IMPROV/session1/S14N/S/\n*************\t/Volumes/Kingston/datasets/audio/MSP-IMPROV/session1/S14N/T/\n*************\t/Volumes/Kingston/datasets/audio/MSP-IMPROV/session1/S15A/P/\n*************\t/Volumes/Kingston/datasets/audio/MSP-IMPROV/session1/S15A/S/\n*************\t/Volumes/Kingston/datasets/audio/MSP-IMPROV/session1/S15A/T/\n*************\t/Volumes/Kingston/datasets/audio/MSP-IMPROV/session1/S15H/P/\n*************\t/Volumes/Kingston/datasets/audio/MSP-IMPROV/session1/S15H/S/\n*************\t/Volumes/Kingston/datasets/audio/MSP-IMPROV/session1/S15H/T/\n*************\t/Volumes/Kingston/datasets/audio/MSP-IMPROV/session1/S15S/P/\n*************\t/Volumes/Kingston/datasets/audio/MSP-IMPROV/session1/S15S/S/\n*************\t/Volumes/Kingston/datasets/audio/MSP-IMPROV/session1/S15S/T/\n*************\t/Volumes/Kingston/datasets/audio/MSP-IMPROV/session1/S15N/P/\n*************\t/Volumes/Kingston/datasets/audio/MSP-IMPROV/session1/S15N/S/\n*************\t/Volumes/Kingston/datasets/audio/MSP-IMPROV/session1/S15N/T/\n*************\t/Volumes/Kingston/datasets/audio/MSP-IMPROV/session3/S11A/P/\n*************\t/Volumes/Kingston/datasets/audio/MSP-IMPROV/session3/S11A/S/\n*************\t/Volumes/Kingston/datasets/audio/MSP-IMPROV/session3/S11A/T/\n*************\t/Volumes/Kingston/datasets/audio/MSP-IMPROV/session3/S11H/P/\n*************\t/Volumes/Kingston/datasets/audio/MSP-IMPROV/session3/S11H/S/\n*************\t/Volumes/Kingston/datasets/audio/MSP-IMPROV/session3/S11H/T/\n*************\t/Volumes/Kingston/datasets/audio/MSP-IMPROV/session3/S11S/P/\n*************\t/Volumes/Kingston/datasets/audio/MSP-IMPROV/session3/S11S/S/\n*************\t/Volumes/Kingston/datasets/audio/MSP-IMPROV/session3/S11S/T/\n*************\t/Volumes/Kingston/datasets/audio/MSP-IMPROV/session3/S11N/P/\n*************\t/Volumes/Kingston/datasets/audio/MSP-IMPROV/session3/S11N/S/\n*************\t/Volumes/Kingston/datasets/audio/MSP-IMPROV/session3/S11N/T/\n*************\t/Volumes/Kingston/datasets/audio/MSP-IMPROV/session3/S12A/P/\n*************\t/Volumes/Kingston/datasets/audio/MSP-IMPROV/session3/S12A/S/\n*************\t/Volumes/Kingston/datasets/audio/MSP-IMPROV/session3/S12A/T/\n*************\t/Volumes/Kingston/datasets/audio/MSP-IMPROV/session3/S12H/P/\n*************\t/Volumes/Kingston/datasets/audio/MSP-IMPROV/session3/S12H/S/\n*************\t/Volumes/Kingston/datasets/audio/MSP-IMPROV/session3/S12H/T/\n*************\t/Volumes/Kingston/datasets/audio/MSP-IMPROV/session3/S12S/P/\n*************\t/Volumes/Kingston/datasets/audio/MSP-IMPROV/session3/S12S/S/\n*************\t/Volumes/Kingston/datasets/audio/MSP-IMPROV/session3/S12S/T/\n*************\t/Volumes/Kingston/datasets/audio/MSP-IMPROV/session3/S12N/P/\n*************\t/Volumes/Kingston/datasets/audio/MSP-IMPROV/session3/S12N/S/\n*************\t/Volumes/Kingston/datasets/audio/MSP-IMPROV/session3/S12N/T/\n*************\t/Volumes/Kingston/datasets/audio/MSP-IMPROV/session3/S13A/P/\n*************\t/Volumes/Kingston/datasets/audio/MSP-IMPROV/session3/S13A/S/\n*************\t/Volumes/Kingston/datasets/audio/MSP-IMPROV/session3/S13A/T/\n*************\t/Volumes/Kingston/datasets/audio/MSP-IMPROV/session3/S13H/P/\n*************\t/Volumes/Kingston/datasets/audio/MSP-IMPROV/session3/S13H/S/\n*************\t/Volumes/Kingston/datasets/audio/MSP-IMPROV/session3/S13H/T/\n*************\t/Volumes/Kingston/datasets/audio/MSP-IMPROV/session3/S13S/P/\n*************\t/Volumes/Kingston/datasets/audio/MSP-IMPROV/session3/S13S/S/\n*************\t/Volumes/Kingston/datasets/audio/MSP-IMPROV/session3/S13S/T/\n*************\t/Volumes/Kingston/datasets/audio/MSP-IMPROV/session3/S13N/P/\n*************\t/Volumes/Kingston/datasets/audio/MSP-IMPROV/session3/S13N/S/\n*************\t/Volumes/Kingston/datasets/audio/MSP-IMPROV/session3/S13N/T/\n*************\t/Volumes/Kingston/datasets/audio/MSP-IMPROV/session3/S14A/P/\n*************\t/Volumes/Kingston/datasets/audio/MSP-IMPROV/session3/S14A/S/\n*************\t/Volumes/Kingston/datasets/audio/MSP-IMPROV/session3/S14A/T/\n*************\t/Volumes/Kingston/datasets/audio/MSP-IMPROV/session3/S14H/P/\n*************\t/Volumes/Kingston/datasets/audio/MSP-IMPROV/session3/S14H/S/\n*************\t/Volumes/Kingston/datasets/audio/MSP-IMPROV/session3/S14H/T/\n*************\t/Volumes/Kingston/datasets/audio/MSP-IMPROV/session3/S14S/P/\n*************\t/Volumes/Kingston/datasets/audio/MSP-IMPROV/session3/S14S/S/\n*************\t/Volumes/Kingston/datasets/audio/MSP-IMPROV/session3/S14S/T/\n*************\t/Volumes/Kingston/datasets/audio/MSP-IMPROV/session3/S14N/P/\n*************\t/Volumes/Kingston/datasets/audio/MSP-IMPROV/session3/S14N/S/\n*************\t/Volumes/Kingston/datasets/audio/MSP-IMPROV/session3/S14N/T/\n*************\t/Volumes/Kingston/datasets/audio/MSP-IMPROV/session3/S15A/P/\n*************\t/Volumes/Kingston/datasets/audio/MSP-IMPROV/session3/S15A/S/\n*************\t/Volumes/Kingston/datasets/audio/MSP-IMPROV/session3/S15A/T/\n*************\t/Volumes/Kingston/datasets/audio/MSP-IMPROV/session3/S15H/P/\n*************\t/Volumes/Kingston/datasets/audio/MSP-IMPROV/session3/S15H/S/\n*************\t/Volumes/Kingston/datasets/audio/MSP-IMPROV/session3/S15H/T/\n*************\t/Volumes/Kingston/datasets/audio/MSP-IMPROV/session3/S15S/P/\n*************\t/Volumes/Kingston/datasets/audio/MSP-IMPROV/session3/S15S/S/\n*************\t/Volumes/Kingston/datasets/audio/MSP-IMPROV/session3/S15S/T/\n*************\t/Volumes/Kingston/datasets/audio/MSP-IMPROV/session3/S15N/P/\n*************\t/Volumes/Kingston/datasets/audio/MSP-IMPROV/session3/S15N/S/\n*************\t/Volumes/Kingston/datasets/audio/MSP-IMPROV/session3/S15N/T/\n"
     ],
     "output_type": "stream"
    }
   ],
   "source": [
    "files_data = []\n",
    "\n",
    "for session in sessions:\n",
    "    for i in range(15):\n",
    "        s = \"S{:02d}\".format(i + 1)\n",
    "        for c in classes:\n",
    "            for scenario in scenarios:\n",
    "                dir = base_path + session + \"/\" + s + c + \"/\" + scenario + \"/\"\n",
    "                if os.path.isdir(dir):\n",
    "                    onlyfiles = [f for f in listdir(dir) if isfile(join(dir, f))]\n",
    "                    for f in onlyfiles:\n",
    "                        abs_filename = dir + \"/\" + f\n",
    "                        speaker_gender, speaker_id = decode_filename(f)\n",
    "    \n",
    "                        file_data = {\n",
    "                            'Filename': f,\n",
    "                            'Path':abs_filename,\n",
    "                            'Class': c,\n",
    "                            'Gender': speaker_gender,\n",
    "                            'Session': session,\n",
    "                            'Sentence': s,\n",
    "                            'Speaker_Id': speaker_id\n",
    "                        }\n",
    "    \n",
    "                        files_data.append(file_data)\n",
    "    \n",
    "                else:\n",
    "                    print(\"*************\\t\" + dir)\n",
    "\n",
    "files_df = pd.DataFrame(files_data)\n",
    "\n",
    "files_df.head()\n",
    "\n",
    "files_df.to_csv('IMPROV_detail.csv')"
   ],
   "metadata": {
    "collapsed": false,
    "pycharm": {
     "name": "#%%\n",
     "is_executing": false
    }
   }
  },
  {
   "cell_type": "code",
   "execution_count": 63,
   "outputs": [
    {
     "data": {
      "text/plain": "<Figure size 432x288 with 1 Axes>",
      "image/png": "[encoded data removed]"
     },
     "metadata": {
      "needs_background": "light"
     },
     "output_type": "display_data"
    }
   ],
   "source": [
    "import matplotlib.pyplot as plt\n",
    "plt.figure()\n",
    "plt.hist(files_df['Class'])\n",
    "plt.show()"
   ],
   "metadata": {
    "collapsed": false,
    "pycharm": {
     "name": "#%%\n",
     "is_executing": false
    }
   }
  },
  {
   "cell_type": "markdown",
   "source": [
    "## Processing Audio"
   ],
   "metadata": {
    "collapsed": false,
    "pycharm": {
     "name": "#%% md\n"
    }
   }
  },
  {
   "cell_type": "code",
   "execution_count": 66,
   "outputs": [],
   "source": [
    "def load_wav(filename, sr=None):\n",
    "    audio, sr = librosa.load(filename, sr=sr)\n",
    "    return audio, sr \n",
    "\n",
    "def remove_silent(signal, top_db=25):\n",
    "    split_times = librosa.effects.split(signal, top_db=top_db)\n",
    "    mix = []\n",
    "    for s in split_times:\n",
    "        part = signal[s[0]:s[1]]\n",
    "        mix.extend(part)\n",
    "\n",
    "    return np.array(mix)\n",
    "\n",
    "# f = files_df['Path'][139]\n",
    "# audio_file, sampling_ratio = load_wav(f)\n",
    "# \n",
    "# plt.figure()\n",
    "# plt.plot(audio_file)\n",
    "# plt.show()\n",
    "\n",
    "data = []\n",
    "\n",
    "for index, row in files_df.iterrows():\n",
    "    audio_file, sampling_ratio = load_wav(row['Path'],IMPROV_SR)\n",
    "    audi = remove_silent(audio_file)\n",
    "    \n",
    "    frame = split_audio(audi,sampling_ratio,IMPROV_DURATION)[0]\n",
    "    mfcc = librosa.feature.mfcc(frame,sampling_ratio, n_mfcc=NUM_MFCC)\n",
    "    \n",
    "    data.append({\n",
    "        'x': mfcc,\n",
    "        'emo': to_categorical(classes.index(row['Class']), num_classes=len(classes)),\n",
    "        'gen': to_categorical(GENDERS.index(row['Gender']), num_classes=len(GENDERS)),\n",
    "        'path': row['Path']\n",
    "    })\n",
    "data = np.array(data)"
   ],
   "metadata": {
    "collapsed": false,
    "pycharm": {
     "name": "#%%\n",
     "is_executing": false
    }
   }
  },
  {
   "cell_type": "code",
   "execution_count": 67,
   "outputs": [],
   "source": [
    "pkl_filename = 'improv-4_Class-sr_44k_2sec.pkl'\n",
    "with open(pkl_filename, 'wb') as f:\n",
    "    pickle.dump(data, f)"
   ],
   "metadata": {
    "collapsed": false,
    "pycharm": {
     "name": "#%%\n",
     "is_executing": false
    }
   }
  }
 ],
 "metadata": {
  "kernelspec": {
   "name": "rl-classifier",
   "language": "python",
   "display_name": "rl-classifier"
  },
  "language_info": {
   "codemirror_mode": {
    "name": "ipython",
    "version": 2
   },
   "file_extension": ".py",
   "mimetype": "text/x-python",
   "name": "python",
   "nbconvert_exporter": "python",
   "pygments_lexer": "ipython2",
   "version": "2.7.6"
  },
  "pycharm": {
   "stem_cell": {
    "cell_type": "raw",
    "source": [],
    "metadata": {
     "collapsed": false
    }
   }
  }
 },
 "nbformat": 4,
 "nbformat_minor": 0
}